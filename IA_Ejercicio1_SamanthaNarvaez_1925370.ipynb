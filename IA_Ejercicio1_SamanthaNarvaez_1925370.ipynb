{
  "nbformat": 4,
  "nbformat_minor": 0,
  "metadata": {
    "colab": {
      "provenance": [],
      "collapsed_sections": [],
      "authorship_tag": "ABX9TyMWgYmHkklkMkJ/EyweHvak",
      "include_colab_link": true
    },
    "kernelspec": {
      "name": "python3",
      "display_name": "Python 3"
    },
    "language_info": {
      "name": "python"
    }
  },
  "cells": [
    {
      "cell_type": "markdown",
      "metadata": {
        "id": "view-in-github",
        "colab_type": "text"
      },
      "source": [
        "<a href=\"https://colab.research.google.com/github/Samnarvaez02/IAyRN/blob/main/IA_Ejercicio1_SamanthaNarvaez_1925370.ipynb\" target=\"_parent\"><img src=\"https://colab.research.google.com/assets/colab-badge.svg\" alt=\"Open In Colab\"/></a>"
      ]
    },
    {
      "cell_type": "markdown",
      "source": [
        "**Actividad 2**: Ejercicios en Python 1\n",
        "Nombre: Samantha Denisse Narvaez Cazares\n",
        "Matricula: 1925370\n",
        "Hora clase: N1"
      ],
      "metadata": {
        "id": "r45GfrkCIRHm"
      }
    },
    {
      "cell_type": "markdown",
      "source": [
        "**Programa 1**. Escribe un programa que le pida al usuario por su nombre y que lo salude con su nombre, excepto si se llama “Ana”, “Juan”, y “Pedro”. "
      ],
      "metadata": {
        "id": "Ftout_ISPy1k"
      }
    },
    {
      "cell_type": "code",
      "execution_count": 38,
      "metadata": {
        "colab": {
          "base_uri": "https://localhost:8080/"
        },
        "id": "Jo16wgloxu94",
        "outputId": "9110b8ea-6b1d-46f9-fc86-c2dabcccf47e"
      },
      "outputs": [
        {
          "output_type": "stream",
          "name": "stdout",
          "text": [
            "Introduce tu nombre con la primera letra en mayuscula y las demas en minuscula: Ana\n",
            "Nombre no valido\n"
          ]
        }
      ],
      "source": [
        "# En las instrucciones se coloca la manera correcta en la que el usuario debe de ingresar el nombre\n",
        "nombre = input(\"Introduce tu nombre con la primera letra en mayuscula y las demas en minuscula: \")\n",
        "if nombre in ['Ana', 'Juan', 'Pedro', 'ana', 'juan', 'pedro', 'ANA', 'JUAN', 'PEDRO']:\n",
        "  print(\"Nombre no valido\")\n",
        "else:\n",
        "  print(\"¡Hola \"+ nombre + \"!\")\n"
      ]
    },
    {
      "cell_type": "markdown",
      "source": [
        "**Programa 2**. Escribe una función que regrese el último elemento de una lista y que revierta el orden de la lista e imprima la lista invertida"
      ],
      "metadata": {
        "id": "UK8Qoo3HRgPh"
      }
    },
    {
      "cell_type": "code",
      "source": [
        "list=[1,2,3,4,5,6,7,8,9,10,11]\n",
        "print(\"El ultimo elemento de la lista es:\")\n",
        "print(list[-1])\n",
        "list.reverse()\n",
        "print(\"Lista revertida: \")\n",
        "for x in list:\n",
        "  print(x)"
      ],
      "metadata": {
        "colab": {
          "base_uri": "https://localhost:8080/"
        },
        "id": "KB1klZ-Rd93C",
        "outputId": "4119bb5e-0873-454d-bf57-b1ed6fa294b2"
      },
      "execution_count": 36,
      "outputs": [
        {
          "output_type": "stream",
          "name": "stdout",
          "text": [
            "El ultimo elemento de la lista es:\n",
            "11\n",
            "Lista revertida: \n",
            "11\n",
            "10\n",
            "9\n",
            "8\n",
            "7\n",
            "6\n",
            "5\n",
            "4\n",
            "3\n",
            "2\n",
            "1\n"
          ]
        }
      ]
    },
    {
      "cell_type": "markdown",
      "source": [
        "**Programa 3**. Escribe una función que toma una lista de strings y los imprima línea por línea en un marco rectangular."
      ],
      "metadata": {
        "id": "Bc5qlhsnD_8W"
      }
    },
    {
      "cell_type": "code",
      "source": [
        "# A el siguiente comando se le agregaron espacios para que los asteriscos del lado derecho queden oredenados correctamente\n",
        "list = [\"Hola    \" ,\"Mi      \",\"nombre  \",\"es      \",\"Samantha\"] \n",
        "print(\"*************\")\n",
        "# Se utiliza el comando for para mostrar la lista con salto de línea\n",
        "for x in list:\n",
        "  print(\"* \", x, \"* \")\n",
        "print(\"*************\")\n"
      ],
      "metadata": {
        "colab": {
          "base_uri": "https://localhost:8080/"
        },
        "id": "DeAel0TJScNO",
        "outputId": "3d78c457-4748-4a5f-9208-2d4e0b879ad0"
      },
      "execution_count": 35,
      "outputs": [
        {
          "output_type": "stream",
          "name": "stdout",
          "text": [
            "*************\n",
            "*  Hola     * \n",
            "*  Mi       * \n",
            "*  nombre   * \n",
            "*  es       * \n",
            "*  Samantha * \n",
            "*************\n"
          ]
        }
      ]
    }
  ]
}